{
 "cells": [
  {
   "metadata": {},
   "cell_type": "markdown",
   "source": "This script generates the plots to compare SCITE-RNA, DENDRO and SClineager on simulated datasets with a variable number of ground truth clones. Additionally, it plots a comparison of the runtimes.",
   "id": "60db69f0a0aa41d0"
  },
  {
   "cell_type": "code",
   "id": "initial_id",
   "metadata": {
    "collapsed": true,
    "ExecuteTime": {
     "end_time": "2025-03-26T12:38:53.985777Z",
     "start_time": "2025-03-26T12:38:53.981262Z"
    }
   },
   "source": [
    "import numpy as np\n",
    "import warnings\n",
    "import matplotlib.pyplot as plt\n",
    "from matplotlib.font_manager import FontProperties\n",
    "import os\n",
    "import json\n",
    "\n",
    "from src_python.cell_tree import CellTree\n",
    "from src_python.utils import create_mutation_matrix, create_genotype_matrix"
   ],
   "outputs": [],
   "execution_count": 2
  },
  {
   "metadata": {
    "ExecuteTime": {
     "end_time": "2025-03-26T12:38:54.776924Z",
     "start_time": "2025-03-26T12:38:54.769855Z"
    }
   },
   "cell_type": "code",
   "source": [
    "path = \"../data/simulated_data\"\n",
    "\n",
    "n_cells = [100, 100, 50]\n",
    "n_mut = [50, 100, 100]\n",
    "n_tests = 100\n",
    "clones = [\"5\", \"10\", \"20\", \"\"]\n",
    "stratified = \"\"  # \"_stratified\" # stratified means all clones are about equally large\n",
    "\n",
    "use_summary_statistics = False #True # Uses the summary files saved in the data/ directory. If raw output files were generated, set to False"
   ],
   "id": "ac7bfa66c05ec43",
   "outputs": [],
   "execution_count": 3
  },
  {
   "metadata": {
    "ExecuteTime": {
     "end_time": "2025-03-26T13:13:33.292622Z",
     "start_time": "2025-03-26T13:11:04.620061Z"
    }
   },
   "cell_type": "code",
   "source": [
    "genotype_differences = {\"SCITE-RNA\": {}}\n",
    "n_round = 2\n",
    "\n",
    "if not use_summary_statistics:\n",
    "    for n_c, n_m in zip(n_cells, n_mut):\n",
    "        genotype_differences[\"SCITE-RNA\"][f\"{n_c}_{n_m}\"] = {}\n",
    "        for clone in clones:\n",
    "            differences = []\n",
    "            for t in range(n_tests):\n",
    "                base_path = os.path.join(path, f\"{n_c}c{n_m}m{clone}c{stratified}\")\n",
    "                genotype_pred_path = os.path.join(base_path, \"sciterna_genotype\", f\"sciterna_genotype_{n_round}r{t}.txt\")\n",
    "                genotype_path = os.path.join(base_path, \"genotype\", f\"genotype_{t}.txt\")\n",
    "                ref_path = os.path.join(base_path, \"ref\", f\"ref_{t}.txt\")\n",
    "                alt_path = os.path.join(base_path, \"alt\", f\"alt_{t}.txt\")\n",
    "                \n",
    "                genotype_pred = np.loadtxt(genotype_pred_path, dtype=str)\n",
    "                gt = np.loadtxt(genotype_path, dtype=str)\n",
    "                alt = np.loadtxt(alt_path)\n",
    "                ref = np.loadtxt(ref_path)\n",
    "                \n",
    "                mapping_dict = {'A': 1.0, 'H': 0.5, 'R': 0}\n",
    "                vectorized_map = np.vectorize(lambda x: float(mapping_dict[x]))\n",
    "                genotype_predicted = vectorized_map(genotype_pred)\n",
    "                genotype = vectorized_map(gt)\n",
    "                            \n",
    "                # difference = np.sum(genotype_predicted != genotype)\n",
    "                difference = np.sum(np.abs(genotype_predicted - genotype))\n",
    "                differences.append(difference/(n_c * n_m))\n",
    "    \n",
    "            genotype_differences[\"SCITE-RNA\"][f\"{n_c}_{n_m}\"][clone] = differences        \n",
    "            print(np.mean(differences), \" mean abs difference of vafs predicted\")"
   ],
   "id": "905e3371d24187f6",
   "outputs": [
    {
     "name": "stdout",
     "output_type": "stream",
     "text": [
      "0.036904  mean abs difference of vafs predicted\n",
      "0.04208499999999999  mean abs difference of vafs predicted\n",
      "0.043961  mean abs difference of vafs predicted\n",
      "0.040351  mean abs difference of vafs predicted\n",
      "0.030048999999999996  mean abs difference of vafs predicted\n",
      "0.0327545  mean abs difference of vafs predicted\n",
      "0.0335245  mean abs difference of vafs predicted\n",
      "0.033625499999999996  mean abs difference of vafs predicted\n",
      "0.042718  mean abs difference of vafs predicted\n",
      "0.045519  mean abs difference of vafs predicted\n",
      "0.047021999999999994  mean abs difference of vafs predicted\n",
      "0.046702999999999995  mean abs difference of vafs predicted\n"
     ]
    }
   ],
   "execution_count": 13
  },
  {
   "metadata": {
    "ExecuteTime": {
     "end_time": "2024-12-04T10:41:39.830131Z",
     "start_time": "2024-12-04T10:41:07.315651Z"
    }
   },
   "cell_type": "code",
   "source": [
    "genotype_differences[\"SClineager\"] = {}\n",
    "\n",
    "if use_summary_statistics == False:\n",
    "    for n_c, n_m in zip(n_cells, n_mut):\n",
    "        genotype_differences[\"SClineager\"][f\"{n_c}_{n_m}\"] = {}\n",
    "        for clone in clones:\n",
    "            differences = []\n",
    "            for t in range(n_tests):\n",
    "                base_path = os.path.join(path, f\"{n_c}c{n_m}m{clone}{stratified}\")\n",
    "                vaf_pred_path = os.path.join(base_path, \"sclineager_vaf\", f\"sclineager_vaf_{t}.txt\")\n",
    "                genotype_path = os.path.join(base_path, \"genotype\", f\"genotype_{t}.txt\")\n",
    "                ref_path = os.path.join(base_path, \"ref\", f\"ref_{t}.txt\")\n",
    "                alt_path = os.path.join(base_path, \"alt\", f\"alt_{t}.txt\")\n",
    "        \n",
    "                vaf_pred = np.loadtxt(vaf_pred_path, dtype=float)\n",
    "                gt = np.loadtxt(genotype_path, dtype=str)\n",
    "                alt = np.loadtxt(alt_path)\n",
    "                ref = np.loadtxt(ref_path)\n",
    "                \n",
    "                mapping_dict = {'A': 1.0, 'H': 0.5, 'R': 0}\n",
    "                vectorized_map = np.vectorize(lambda x: float(mapping_dict[x]))\n",
    "                genotype = vectorized_map(gt)\n",
    "                \n",
    "                vaf_pred = np.round(vaf_pred * 2) / 2\n",
    "                difference = np.sum(np.abs(vaf_pred - genotype))\n",
    "                differences.append(difference/(n_c * n_m))\n",
    "    \n",
    "                    \n",
    "            genotype_differences[\"SClineager\"][f\"{n_c}_{n_m}\"][clone] = differences        \n",
    "            print(np.mean(differences), \" mean abs difference of vafs predicted\")"
   ],
   "id": "75f60cffd975115d",
   "outputs": [
    {
     "name": "stdout",
     "output_type": "stream",
     "text": [
      "0.025631000000000004  mean abs difference of vafs predicted\n",
      "0.031489  mean abs difference of vafs predicted\n",
      "0.032997  mean abs difference of vafs predicted\n",
      "0.024017000000000004  mean abs difference of vafs predicted\n",
      "0.024220500000000006  mean abs difference of vafs predicted\n",
      "0.028336000000000007  mean abs difference of vafs predicted\n",
      "0.030038999999999996  mean abs difference of vafs predicted\n",
      "0.023035999999999997  mean abs difference of vafs predicted\n",
      "0.031245999999999996  mean abs difference of vafs predicted\n",
      "0.034899  mean abs difference of vafs predicted\n",
      "0.038454  mean abs difference of vafs predicted\n",
      "0.029854  mean abs difference of vafs predicted\n"
     ]
    }
   ],
   "execution_count": 5
  },
  {
   "metadata": {
    "ExecuteTime": {
     "end_time": "2024-12-04T10:47:55.002099Z",
     "start_time": "2024-12-04T10:47:39.342205Z"
    }
   },
   "cell_type": "code",
   "source": [
    "genotype_differences[\"DENDRO\"] = {}\n",
    "\n",
    "if use_summary_statistics == False:\n",
    "    for n_c, n_m in zip(n_cells, n_mut):\n",
    "        genotype_differences[\"DENDRO\"][f\"{n_c}_{n_m}\"] = {}\n",
    "        for clone in clones:\n",
    "            differences = []\n",
    "            for t in range(n_tests):\n",
    "                base_path = os.path.join(path, f\"{n_c}c{n_m}m{clone}{stratified}\")\n",
    "                clones_pred_path = os.path.join(base_path, \"dendro_clones\", f\"dendro_clones_{t}.txt\")\n",
    "                clones_pred = np.loadtxt(clones_pred_path, dtype=float)\n",
    "                genotype_path = os.path.join(base_path, \"genotype\", f\"genotype_{t}.txt\")\n",
    "                ref_path = os.path.join(base_path, \"ref\", f\"ref_{t}.txt\")\n",
    "                alt_path = os.path.join(base_path, \"alt\", f\"alt_{t}.txt\")\n",
    "        \n",
    "                gt = np.loadtxt(genotype_path, dtype=str)\n",
    "                alt = np.loadtxt(alt_path)\n",
    "                ref = np.loadtxt(ref_path)\n",
    "                with np.errstate(invalid='ignore'):\n",
    "                    vaf_observed = alt/(alt+ref)\n",
    "                \n",
    "                mapping_dict = {'A': 1.0, 'H': 0.5, 'R': 0}\n",
    "                vectorized_map = np.vectorize(lambda x: float(mapping_dict[x]))\n",
    "                genotype = vectorized_map(gt)\n",
    "                \n",
    "                unique_classes = np.unique(clones_pred)\n",
    "        \n",
    "                # For each unique class, replace column values with the mean of the columns of that class\n",
    "                for cls in unique_classes:\n",
    "                    class_indices = np.where(clones_pred == cls)[0]\n",
    "                    with warnings.catch_warnings():\n",
    "                        warnings.simplefilter(\"ignore\", category=RuntimeWarning)\n",
    "                        mean_values = np.nanmean(vaf_observed[:, class_indices], axis=1)\n",
    "                    \n",
    "                    # in case the mean is nan replace it with the mean genotype over all cells\n",
    "                    row_nanmean = np.nanmean(vaf_observed, axis=1)\n",
    "                    if np.isnan(row_nanmean).any():\n",
    "                        raise ValueError(\"Error: The array contains NaN values.\")\n",
    "                    mean_values = np.where(np.isnan(mean_values), row_nanmean, mean_values)\n",
    "                    if np.isnan(mean_values).any():\n",
    "                        raise ValueError(\"Error: The array contains NaN values.\")\n",
    "                    \n",
    "                    vaf_observed[:, class_indices] = np.tile(mean_values[:, np.newaxis], len(class_indices))\n",
    "                        \n",
    "                    \n",
    "                vaf_observed_rounded = np.round(vaf_observed * 2) / 2\n",
    "                if np.isnan(vaf_observed_rounded).any():\n",
    "                    print(\"Error: The array contains NaN values.\")\n",
    "                \n",
    "                difference = np.nansum(np.abs(vaf_observed_rounded - genotype))\n",
    "                differences.append(difference/(n_c * n_m))\n",
    "                    \n",
    "            genotype_differences[\"DENDRO\"][f\"{n_c}_{n_m}\"][clone] = differences           \n",
    "            print(np.mean(differences), \" mean abs difference of vafs predicted\")"
   ],
   "id": "d0486a0a77458777",
   "outputs": [
    {
     "name": "stdout",
     "output_type": "stream",
     "text": [
      "0.018368999999999996  mean abs difference of vafs predicted\n",
      "0.035682  mean abs difference of vafs predicted\n",
      "0.049097999999999996  mean abs difference of vafs predicted\n",
      "0.05063499999999999  mean abs difference of vafs predicted\n",
      "0.010152  mean abs difference of vafs predicted\n",
      "0.025730500000000003  mean abs difference of vafs predicted\n",
      "0.040061  mean abs difference of vafs predicted\n",
      "Error: The array contains NaN values.\n",
      "0.059968  mean abs difference of vafs predicted\n",
      "0.017352  mean abs difference of vafs predicted\n",
      "0.039131000000000006  mean abs difference of vafs predicted\n",
      "0.057800000000000004  mean abs difference of vafs predicted\n",
      "0.07045900000000001  mean abs difference of vafs predicted\n"
     ]
    }
   ],
   "execution_count": 12
  },
  {
   "metadata": {
    "ExecuteTime": {
     "end_time": "2025-03-26T13:27:24.573661Z",
     "start_time": "2025-03-26T13:27:23.076638Z"
    }
   },
   "cell_type": "code",
   "source": [
    "if use_summary_statistics:\n",
    "    with open(r\"../data/simulated_data/model_comparison.json\") as f:\n",
    "        genotype_differences = json.load(f)\n",
    "\n",
    "models = [\"SCITE-RNA\", \"SClineager\", \"DENDRO\"]\n",
    "\n",
    "fig, axes = plt.subplots(3, 4, figsize=(18, 12), sharey=True)\n",
    "\n",
    "colors = [\"lightblue\", \"lightgreen\", \"orange\"]\n",
    "alpha_value = 0.6\n",
    "\n",
    "title_size = 24\n",
    "label_size = 18\n",
    "tick_size = 16\n",
    "box_width = 2.0\n",
    "boxplot_widths = 0.8\n",
    "\n",
    "for row_idx, (n_c, n_m) in enumerate(zip(n_cells, n_mut)):\n",
    "    for col_idx, clone in enumerate(clones):\n",
    "        all_samples = []\n",
    "        for model in models:\n",
    "            all_samples.append(genotype_differences[model][f\"{n_c}_{n_m}\"][clone])\n",
    "        \n",
    "        ax = axes[row_idx, col_idx]\n",
    "        box = ax.boxplot(all_samples, patch_artist=True, widths=boxplot_widths, showfliers=False)\n",
    "        \n",
    "        for patch, color in zip(box['boxes'], colors):\n",
    "            patch.set_facecolor(color)\n",
    "            patch.set_alpha(alpha_value)\n",
    "        \n",
    "        for line in box['medians']:\n",
    "            line.set_linewidth(box_width)\n",
    "            line.set_color(\"black\")\n",
    "        \n",
    "        if row_idx == 0:\n",
    "            if clone == \"\":\n",
    "                ax.set_title(\"Tree-based\", fontsize=title_size, pad=10, fontweight=\"bold\")\n",
    "            else:\n",
    "                ax.set_title(f\"{clone} Clones\", fontsize=title_size, pad=10, fontweight=\"bold\")\n",
    "\n",
    "        if row_idx == 2:\n",
    "            ax.set_xticklabels(models, fontsize=tick_size)\n",
    "        else:\n",
    "            ax.set_xticks([])  # Remove x-ticks for the higher rows\n",
    "\n",
    "        if col_idx == 0:\n",
    "            ax.set_ylabel('MAE VAF', fontsize=label_size)\n",
    "        if col_idx == 3:\n",
    "            ax.yaxis.set_label_position(\"right\")\n",
    "            ax.set_ylabel(f'{n_c} Cells\\n{n_m} Mutations', fontsize=label_size, rotation=90, labelpad=20, fontproperties=FontProperties(weight='bold'))\n",
    "\n",
    "        ax.tick_params(axis='x', labelsize=tick_size, rotation=45)\n",
    "        ax.tick_params(axis='y', labelsize=tick_size)\n",
    "        ax.grid(False)\n",
    "\n",
    "plt.tight_layout()\n",
    "plt.savefig(\"../data/results/figures/clones.png\")\n",
    "plt.show()"
   ],
   "id": "cf8c68242624934e",
   "outputs": [
    {
     "ename": "KeyError",
     "evalue": "'SClineager'",
     "output_type": "error",
     "traceback": [
      "\u001B[1;31m---------------------------------------------------------------------------\u001B[0m",
      "\u001B[1;31mKeyError\u001B[0m                                  Traceback (most recent call last)",
      "Cell \u001B[1;32mIn[14], line 22\u001B[0m\n\u001B[0;32m     20\u001B[0m all_samples \u001B[38;5;241m=\u001B[39m []\n\u001B[0;32m     21\u001B[0m \u001B[38;5;28;01mfor\u001B[39;00m model \u001B[38;5;129;01min\u001B[39;00m models:\n\u001B[1;32m---> 22\u001B[0m     all_samples\u001B[38;5;241m.\u001B[39mappend(\u001B[43mgenotype_differences\u001B[49m\u001B[43m[\u001B[49m\u001B[43mmodel\u001B[49m\u001B[43m]\u001B[49m[\u001B[38;5;124mf\u001B[39m\u001B[38;5;124m\"\u001B[39m\u001B[38;5;132;01m{\u001B[39;00mn_c\u001B[38;5;132;01m}\u001B[39;00m\u001B[38;5;124m_\u001B[39m\u001B[38;5;132;01m{\u001B[39;00mn_m\u001B[38;5;132;01m}\u001B[39;00m\u001B[38;5;124m\"\u001B[39m][clone])\n\u001B[0;32m     24\u001B[0m ax \u001B[38;5;241m=\u001B[39m axes[row_idx, col_idx]\n\u001B[0;32m     25\u001B[0m box \u001B[38;5;241m=\u001B[39m ax\u001B[38;5;241m.\u001B[39mboxplot(all_samples, patch_artist\u001B[38;5;241m=\u001B[39m\u001B[38;5;28;01mTrue\u001B[39;00m, widths\u001B[38;5;241m=\u001B[39mboxplot_widths, showfliers\u001B[38;5;241m=\u001B[39m\u001B[38;5;28;01mFalse\u001B[39;00m)\n",
      "\u001B[1;31mKeyError\u001B[0m: 'SClineager'"
     ]
    },
    {
     "data": {
      "text/plain": [
       "<Figure size 1800x1200 with 12 Axes>"
      ],
      "image/png": "[encoded data removed]"
     },
     "metadata": {},
     "output_type": "display_data"
    }
   ],
   "execution_count": 14
  },
  {
   "metadata": {
    "ExecuteTime": {
     "end_time": "2024-12-04T10:42:03.970241Z",
     "start_time": "2024-12-04T10:42:03.299191Z"
    }
   },
   "cell_type": "code",
   "source": [
    "base_path = os.path.join(path, f\"{100}c{100}m{10}{stratified}\")\n",
    "\n",
    "runtime_sclineager = np.loadtxt(os.path.join(base_path, \"execution_times_sclineager.txt\"))\n",
    "runtime_dendro = np.loadtxt(os.path.join(base_path, \"execution_times_dendro.txt\"))\n",
    "runtime_sciterna = np.loadtxt(os.path.join(base_path, \"execution_times_sciterna.txt\"))\n",
    "\n",
    "data = [runtime_sciterna, runtime_sclineager, runtime_dendro]\n",
    "\n",
    "plt.figure(figsize=(8, 5))\n",
    "box = plt.boxplot(data, patch_artist=True, widths=boxplot_widths, showfliers=False)\n",
    "\n",
    "colors = [\"lightblue\", \"lightgreen\", \"orange\"]\n",
    "alpha_value = 0.6\n",
    "box_width = 2.0\n",
    "\n",
    "for patch, color in zip(box['boxes'], colors):\n",
    "    patch.set_facecolor(color)\n",
    "    patch.set_alpha(alpha_value)\n",
    "\n",
    "for line in box['medians']:\n",
    "    line.set_linewidth(box_width)\n",
    "    line.set_color(\"black\")\n",
    "\n",
    "plt.title(\"Runtime Comparison (100 Cells, 100 Mutations)\", fontsize=24, pad=20)\n",
    "plt.ylabel('Runtime in seconds (log-scale)', fontsize=18)\n",
    "plt.yscale('log')\n",
    "plt.xticks(ticks=[1, 2, 3], labels=models, fontsize=18)  \n",
    "plt.tick_params(axis='y', labelsize=16)\n",
    "plt.grid(False)\n",
    "\n",
    "plt.tight_layout()\n",
    "# plt.savefig(\"../data/results/figures/runtimes.png\")\n",
    "plt.show()"
   ],
   "id": "981a8ebb8ac77396",
   "outputs": [
    {
     "ename": "FileNotFoundError",
     "evalue": "../data/simulated_data\\100c100m10\\execution_times_sclineager.txt not found.",
     "output_type": "error",
     "traceback": [
      "\u001B[1;31m---------------------------------------------------------------------------\u001B[0m",
      "\u001B[1;31mFileNotFoundError\u001B[0m                         Traceback (most recent call last)",
      "Cell \u001B[1;32mIn[8], line 3\u001B[0m\n\u001B[0;32m      1\u001B[0m base_path \u001B[38;5;241m=\u001B[39m os\u001B[38;5;241m.\u001B[39mpath\u001B[38;5;241m.\u001B[39mjoin(path, \u001B[38;5;124mf\u001B[39m\u001B[38;5;124m\"\u001B[39m\u001B[38;5;132;01m{\u001B[39;00m\u001B[38;5;241m100\u001B[39m\u001B[38;5;132;01m}\u001B[39;00m\u001B[38;5;124mc\u001B[39m\u001B[38;5;132;01m{\u001B[39;00m\u001B[38;5;241m100\u001B[39m\u001B[38;5;132;01m}\u001B[39;00m\u001B[38;5;124mm\u001B[39m\u001B[38;5;132;01m{\u001B[39;00m\u001B[38;5;241m10\u001B[39m\u001B[38;5;132;01m}\u001B[39;00m\u001B[38;5;132;01m{\u001B[39;00mstratified\u001B[38;5;132;01m}\u001B[39;00m\u001B[38;5;124m\"\u001B[39m)\n\u001B[1;32m----> 3\u001B[0m runtime_sclineager \u001B[38;5;241m=\u001B[39m \u001B[43mnp\u001B[49m\u001B[38;5;241;43m.\u001B[39;49m\u001B[43mloadtxt\u001B[49m\u001B[43m(\u001B[49m\u001B[43mos\u001B[49m\u001B[38;5;241;43m.\u001B[39;49m\u001B[43mpath\u001B[49m\u001B[38;5;241;43m.\u001B[39;49m\u001B[43mjoin\u001B[49m\u001B[43m(\u001B[49m\u001B[43mbase_path\u001B[49m\u001B[43m,\u001B[49m\u001B[43m \u001B[49m\u001B[38;5;124;43m\"\u001B[39;49m\u001B[38;5;124;43mexecution_times_sclineager.txt\u001B[39;49m\u001B[38;5;124;43m\"\u001B[39;49m\u001B[43m)\u001B[49m\u001B[43m)\u001B[49m\n\u001B[0;32m      4\u001B[0m runtime_dendro \u001B[38;5;241m=\u001B[39m np\u001B[38;5;241m.\u001B[39mloadtxt(os\u001B[38;5;241m.\u001B[39mpath\u001B[38;5;241m.\u001B[39mjoin(base_path, \u001B[38;5;124m\"\u001B[39m\u001B[38;5;124mexecution_times_dendro.txt\u001B[39m\u001B[38;5;124m\"\u001B[39m))\n\u001B[0;32m      5\u001B[0m runtime_sciterna \u001B[38;5;241m=\u001B[39m np\u001B[38;5;241m.\u001B[39mloadtxt(os\u001B[38;5;241m.\u001B[39mpath\u001B[38;5;241m.\u001B[39mjoin(base_path, \u001B[38;5;124m\"\u001B[39m\u001B[38;5;124mexecution_times_sciterna.txt\u001B[39m\u001B[38;5;124m\"\u001B[39m))\n",
      "File \u001B[1;32m~\\anaconda3\\envs\\RNA\\Lib\\site-packages\\numpy\\lib\\npyio.py:1373\u001B[0m, in \u001B[0;36mloadtxt\u001B[1;34m(fname, dtype, comments, delimiter, converters, skiprows, usecols, unpack, ndmin, encoding, max_rows, quotechar, like)\u001B[0m\n\u001B[0;32m   1370\u001B[0m \u001B[38;5;28;01mif\u001B[39;00m \u001B[38;5;28misinstance\u001B[39m(delimiter, \u001B[38;5;28mbytes\u001B[39m):\n\u001B[0;32m   1371\u001B[0m     delimiter \u001B[38;5;241m=\u001B[39m delimiter\u001B[38;5;241m.\u001B[39mdecode(\u001B[38;5;124m'\u001B[39m\u001B[38;5;124mlatin1\u001B[39m\u001B[38;5;124m'\u001B[39m)\n\u001B[1;32m-> 1373\u001B[0m arr \u001B[38;5;241m=\u001B[39m \u001B[43m_read\u001B[49m\u001B[43m(\u001B[49m\u001B[43mfname\u001B[49m\u001B[43m,\u001B[49m\u001B[43m \u001B[49m\u001B[43mdtype\u001B[49m\u001B[38;5;241;43m=\u001B[39;49m\u001B[43mdtype\u001B[49m\u001B[43m,\u001B[49m\u001B[43m \u001B[49m\u001B[43mcomment\u001B[49m\u001B[38;5;241;43m=\u001B[39;49m\u001B[43mcomment\u001B[49m\u001B[43m,\u001B[49m\u001B[43m \u001B[49m\u001B[43mdelimiter\u001B[49m\u001B[38;5;241;43m=\u001B[39;49m\u001B[43mdelimiter\u001B[49m\u001B[43m,\u001B[49m\n\u001B[0;32m   1374\u001B[0m \u001B[43m            \u001B[49m\u001B[43mconverters\u001B[49m\u001B[38;5;241;43m=\u001B[39;49m\u001B[43mconverters\u001B[49m\u001B[43m,\u001B[49m\u001B[43m \u001B[49m\u001B[43mskiplines\u001B[49m\u001B[38;5;241;43m=\u001B[39;49m\u001B[43mskiprows\u001B[49m\u001B[43m,\u001B[49m\u001B[43m \u001B[49m\u001B[43musecols\u001B[49m\u001B[38;5;241;43m=\u001B[39;49m\u001B[43musecols\u001B[49m\u001B[43m,\u001B[49m\n\u001B[0;32m   1375\u001B[0m \u001B[43m            \u001B[49m\u001B[43munpack\u001B[49m\u001B[38;5;241;43m=\u001B[39;49m\u001B[43munpack\u001B[49m\u001B[43m,\u001B[49m\u001B[43m \u001B[49m\u001B[43mndmin\u001B[49m\u001B[38;5;241;43m=\u001B[39;49m\u001B[43mndmin\u001B[49m\u001B[43m,\u001B[49m\u001B[43m \u001B[49m\u001B[43mencoding\u001B[49m\u001B[38;5;241;43m=\u001B[39;49m\u001B[43mencoding\u001B[49m\u001B[43m,\u001B[49m\n\u001B[0;32m   1376\u001B[0m \u001B[43m            \u001B[49m\u001B[43mmax_rows\u001B[49m\u001B[38;5;241;43m=\u001B[39;49m\u001B[43mmax_rows\u001B[49m\u001B[43m,\u001B[49m\u001B[43m \u001B[49m\u001B[43mquote\u001B[49m\u001B[38;5;241;43m=\u001B[39;49m\u001B[43mquotechar\u001B[49m\u001B[43m)\u001B[49m\n\u001B[0;32m   1378\u001B[0m \u001B[38;5;28;01mreturn\u001B[39;00m arr\n",
      "File \u001B[1;32m~\\anaconda3\\envs\\RNA\\Lib\\site-packages\\numpy\\lib\\npyio.py:992\u001B[0m, in \u001B[0;36m_read\u001B[1;34m(fname, delimiter, comment, quote, imaginary_unit, usecols, skiplines, max_rows, converters, ndmin, unpack, dtype, encoding)\u001B[0m\n\u001B[0;32m    990\u001B[0m     fname \u001B[38;5;241m=\u001B[39m os\u001B[38;5;241m.\u001B[39mfspath(fname)\n\u001B[0;32m    991\u001B[0m \u001B[38;5;28;01mif\u001B[39;00m \u001B[38;5;28misinstance\u001B[39m(fname, \u001B[38;5;28mstr\u001B[39m):\n\u001B[1;32m--> 992\u001B[0m     fh \u001B[38;5;241m=\u001B[39m \u001B[43mnp\u001B[49m\u001B[38;5;241;43m.\u001B[39;49m\u001B[43mlib\u001B[49m\u001B[38;5;241;43m.\u001B[39;49m\u001B[43m_datasource\u001B[49m\u001B[38;5;241;43m.\u001B[39;49m\u001B[43mopen\u001B[49m\u001B[43m(\u001B[49m\u001B[43mfname\u001B[49m\u001B[43m,\u001B[49m\u001B[43m \u001B[49m\u001B[38;5;124;43m'\u001B[39;49m\u001B[38;5;124;43mrt\u001B[39;49m\u001B[38;5;124;43m'\u001B[39;49m\u001B[43m,\u001B[49m\u001B[43m \u001B[49m\u001B[43mencoding\u001B[49m\u001B[38;5;241;43m=\u001B[39;49m\u001B[43mencoding\u001B[49m\u001B[43m)\u001B[49m\n\u001B[0;32m    993\u001B[0m     \u001B[38;5;28;01mif\u001B[39;00m encoding \u001B[38;5;129;01mis\u001B[39;00m \u001B[38;5;28;01mNone\u001B[39;00m:\n\u001B[0;32m    994\u001B[0m         encoding \u001B[38;5;241m=\u001B[39m \u001B[38;5;28mgetattr\u001B[39m(fh, \u001B[38;5;124m'\u001B[39m\u001B[38;5;124mencoding\u001B[39m\u001B[38;5;124m'\u001B[39m, \u001B[38;5;124m'\u001B[39m\u001B[38;5;124mlatin1\u001B[39m\u001B[38;5;124m'\u001B[39m)\n",
      "File \u001B[1;32m~\\anaconda3\\envs\\RNA\\Lib\\site-packages\\numpy\\lib\\_datasource.py:193\u001B[0m, in \u001B[0;36mopen\u001B[1;34m(path, mode, destpath, encoding, newline)\u001B[0m\n\u001B[0;32m    156\u001B[0m \u001B[38;5;250m\u001B[39m\u001B[38;5;124;03m\"\"\"\u001B[39;00m\n\u001B[0;32m    157\u001B[0m \u001B[38;5;124;03mOpen `path` with `mode` and return the file object.\u001B[39;00m\n\u001B[0;32m    158\u001B[0m \n\u001B[1;32m   (...)\u001B[0m\n\u001B[0;32m    189\u001B[0m \n\u001B[0;32m    190\u001B[0m \u001B[38;5;124;03m\"\"\"\u001B[39;00m\n\u001B[0;32m    192\u001B[0m ds \u001B[38;5;241m=\u001B[39m DataSource(destpath)\n\u001B[1;32m--> 193\u001B[0m \u001B[38;5;28;01mreturn\u001B[39;00m \u001B[43mds\u001B[49m\u001B[38;5;241;43m.\u001B[39;49m\u001B[43mopen\u001B[49m\u001B[43m(\u001B[49m\u001B[43mpath\u001B[49m\u001B[43m,\u001B[49m\u001B[43m \u001B[49m\u001B[43mmode\u001B[49m\u001B[43m,\u001B[49m\u001B[43m \u001B[49m\u001B[43mencoding\u001B[49m\u001B[38;5;241;43m=\u001B[39;49m\u001B[43mencoding\u001B[49m\u001B[43m,\u001B[49m\u001B[43m \u001B[49m\u001B[43mnewline\u001B[49m\u001B[38;5;241;43m=\u001B[39;49m\u001B[43mnewline\u001B[49m\u001B[43m)\u001B[49m\n",
      "File \u001B[1;32m~\\anaconda3\\envs\\RNA\\Lib\\site-packages\\numpy\\lib\\_datasource.py:533\u001B[0m, in \u001B[0;36mDataSource.open\u001B[1;34m(self, path, mode, encoding, newline)\u001B[0m\n\u001B[0;32m    530\u001B[0m     \u001B[38;5;28;01mreturn\u001B[39;00m _file_openers[ext](found, mode\u001B[38;5;241m=\u001B[39mmode,\n\u001B[0;32m    531\u001B[0m                               encoding\u001B[38;5;241m=\u001B[39mencoding, newline\u001B[38;5;241m=\u001B[39mnewline)\n\u001B[0;32m    532\u001B[0m \u001B[38;5;28;01melse\u001B[39;00m:\n\u001B[1;32m--> 533\u001B[0m     \u001B[38;5;28;01mraise\u001B[39;00m \u001B[38;5;167;01mFileNotFoundError\u001B[39;00m(\u001B[38;5;124mf\u001B[39m\u001B[38;5;124m\"\u001B[39m\u001B[38;5;132;01m{\u001B[39;00mpath\u001B[38;5;132;01m}\u001B[39;00m\u001B[38;5;124m not found.\u001B[39m\u001B[38;5;124m\"\u001B[39m)\n",
      "\u001B[1;31mFileNotFoundError\u001B[0m: ../data/simulated_data\\100c100m10\\execution_times_sclineager.txt not found."
     ]
    }
   ],
   "execution_count": 8
  },
  {
   "metadata": {
    "ExecuteTime": {
     "end_time": "2024-12-04T10:42:03.972248Z",
     "start_time": "2024-12-04T10:42:03.972248Z"
    }
   },
   "cell_type": "code",
   "source": [
    "base_path = os.path.join(path, f\"{100}c{100}m{5}{stratified}\")\n",
    "base_path2 = os.path.join(r\"../data/simulated_data - Kopie (3)\", f\"{100}c{100}m{5}{stratified}\")"
   ],
   "id": "d9781d1ae0d3ee43",
   "outputs": [],
   "execution_count": null
  },
  {
   "metadata": {},
   "cell_type": "code",
   "source": [
    "# Function to compare two text files loaded as numpy arrays\n",
    "def compare_files(file1, file2):\n",
    "    \"\"\"Compares the contents of two text files (loaded as numpy arrays).\"\"\"\n",
    "    try:\n",
    "        # Load the files with np.genfromtxt (handles mixed types)\n",
    "        data1 = np.genfromtxt(file1, dtype=None, encoding=None)\n",
    "        data2 = np.genfromtxt(file2, dtype=None, encoding=None)\n",
    "        \n",
    "        # Check if the data arrays are identical\n",
    "        return np.array_equal(data1, data2)\n",
    "    except Exception as e:\n",
    "        print(f\"Error comparing files {file1} and {file2}: {e}\")\n",
    "        return False\n",
    "\n",
    "# Iterate through subfolders in base_path\n",
    "for subfolder in os.listdir(base_path):\n",
    "    subfolder_path = os.path.join(base_path, subfolder)\n",
    "    subfolder_path2 = os.path.join(base_path2, subfolder)\n",
    "    \n",
    "    # Check if both subfolders exist in both locations\n",
    "    if os.path.isdir(subfolder_path) and os.path.isdir(subfolder_path2):\n",
    "        # Iterate through .txt files in the subfolder\n",
    "        for filename in os.listdir(subfolder_path):\n",
    "            if filename.endswith(\".txt\"):\n",
    "                file1 = os.path.join(subfolder_path, filename)\n",
    "                file2 = os.path.join(subfolder_path2, filename)\n",
    "\n",
    "                # Check if the files exist in both subfolders\n",
    "                if os.path.isfile(file1) and os.path.isfile(file2):\n",
    "                    # Compare the files\n",
    "                    if compare_files(file1, file2):\n",
    "                        continue\n",
    "                        # print(f\"Files {file1} and {file2} are identical.\")\n",
    "                    else:\n",
    "                        print(f\"Files {file1} and {file2} are different.\")\n",
    "                else:\n",
    "                    print(f\"File missing in one of the subfolders: {file1}, {file2}\")\n",
    "    else:\n",
    "        print(f\"Subfolder {subfolder} not found in both directories: {subfolder_path}, {subfolder_path2}\")"
   ],
   "id": "3052a1d801b2c1f8",
   "outputs": [],
   "execution_count": null
  },
  {
   "metadata": {},
   "cell_type": "code",
   "outputs": [],
   "execution_count": null,
   "source": "",
   "id": "ec9b6986c0c43a6"
  }
 ],
 "metadata": {
  "kernelspec": {
   "display_name": "Python 3",
   "language": "python",
   "name": "python3"
  },
  "language_info": {
   "codemirror_mode": {
    "name": "ipython",
    "version": 2
   },
   "file_extension": ".py",
   "mimetype": "text/x-python",
   "name": "python",
   "nbconvert_exporter": "python",
   "pygments_lexer": "ipython2",
   "version": "2.7.6"
  }
 },
 "nbformat": 4,
 "nbformat_minor": 5
}
